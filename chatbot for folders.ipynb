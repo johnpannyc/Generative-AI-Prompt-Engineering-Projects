{
 "cells": [
  {
   "cell_type": "markdown",
   "id": "a759132d",
   "metadata": {},
   "source": [
    "# Answering Basic Information from Shared Folder Files using Chatbot\n",
    "This project aims to build an LLM AI app that answers basic relevant information from the files in a shared folder. The OpenAI model \"gpt-4o-mini\" was utilized for this purpose, and the Chatbot interface was created using Gradio. The benefit of this project is the ability to quickly access and retrieve relevant information, enhancing productivity with an easy-to-use interface."
   ]
  },
  {
   "cell_type": "code",
   "execution_count": null,
   "id": "ba2779af-84ef-4227-9e9e-6eaf0df87e77",
   "metadata": {},
   "outputs": [],
   "source": [
    "import os\n",
    "import glob\n",
    "from dotenv import load_dotenv\n",
    "import gradio as gr\n",
    "from openai import OpenAI"
   ]
  },
  {
   "cell_type": "code",
   "execution_count": null,
   "id": "58c85082-e417-4708-9efe-81a5d55d1424",
   "metadata": {},
   "outputs": [],
   "source": [
    "MODEL = \"gpt-4o-mini\"\n",
    "\n",
    "load_dotenv()\n",
    "os.environ['OPENAI_API_KEY'] = 'your_api_key'\n",
    "openai = OpenAI()"
   ]
  },
  {
   "cell_type": "code",
   "execution_count": null,
   "id": "9e0652c2-3d76-40c7-8313-9dc1895155a8",
   "metadata": {},
   "outputs": [],
   "source": [
    "context = {}\n",
    "\n",
    "employees = glob.glob(\"knowledge-base/employees/*\")\n",
    "\n",
    "for employee in employees:\n",
    "    name = employee.split(' ')[-1][:-3]\n",
    "    doc = \"\"\n",
    "    with open(employee, \"r\", encoding=\"utf-8\") as f:\n",
    "        doc = f.read()\n",
    "    context[name]=doc"
   ]
  },
  {
   "cell_type": "code",
   "execution_count": 56,
   "id": "2c85a11b-b04d-4066-b243-f96139ca106f",
   "metadata": {},
   "outputs": [
    {
     "name": "stdout",
     "output_type": "stream",
     "text": [
      "# HR Record\n",
      "\n",
      "# Alex Chen\n",
      "\n",
      "## Summary\n",
      "- **Date of Birth:** March 15, 1990  \n",
      "- **Job Title:** Backend Software Engineer  \n",
      "- **Location:** San Francisco, California  \n",
      "\n",
      "## Insurellm Career Progression\n",
      "- **April 2020:** Joined Insurellm as a Junior Backend Developer. Focused on building APIs to enhance customer data security.\n",
      "- **October 2021:** Promoted to Backend Software Engineer. Took on leadership for a key project developing a microservices architecture to support the company's growing platform.\n",
      "- **March 2023:** Awarded the title of Senior Backend Software Engineer due to exemplary performance in scaling backend services, reducing downtime by 30% over six months.\n",
      "\n",
      "## Annual Performance History\n",
      "- **2020:**  \n",
      "  - Completed onboarding successfully.  \n",
      "  - Met expectations in delivering project milestones.  \n",
      "  - Received positive feedback from the team leads.\n",
      "\n",
      "- **2021:**  \n",
      "  - Achieved a 95% success rate in project delivery timelines.  \n",
      "  - Awarded \"Rising Star\" at the annual company gala for outstanding contributions.  \n",
      "\n",
      "- **2022:**  \n",
      "  - Exceeded goals by optimizing existing backend code, improving system performance by 25%.  \n",
      "  - Conducted training sessions for junior developers, fostering knowledge sharing.  \n",
      "\n",
      "- **2023:**  \n",
      "  - Led a major overhaul of the API internal architecture, enhancing security protocols.  \n",
      "  - Contributed to the company’s transition to a cloud-based infrastructure.  \n",
      "  - Received an overall performance rating of 4.8/5.\n",
      "\n",
      "## Compensation History\n",
      "- **2020:** Base Salary: $80,000  \n",
      "- **2021:** Base Salary Increase to $90,000; Received a performance bonus of $5,000.  \n",
      "- **2022:** Base Salary Increase to $100,000; Performance bonus of $7,500 due to exceptional project outcomes.  \n",
      "- **2023:** Base Salary Increase to $115,000; Performance bonus of $10,000 for leading pivotal projects.\n",
      "\n",
      "## Other HR Notes\n",
      "- Participates regularly in Insurellm's Diversity & Inclusion initiatives, championing tech accessibility for underrepresented communities.\n",
      "- Completed several certifications in cloud architecture and DevOps, contributing to professional growth.\n",
      "- Plans for a professional development course in AI and machine learning to further enhance backend capabilities in Insurellm's offerings.\n",
      "- Acknowledged for volunteer efforts in local tech meetups, bringing seasoned engineers to mentor aspiring coders.  \n",
      "\n",
      "Alex Chen continues to be a vital asset at Insurellm, contributing significantly to innovative backend solutions that help shape the future of insurance technology.\n"
     ]
    }
   ],
   "source": [
    "print(context[\"Chen\"])"
   ]
  },
  {
   "cell_type": "code",
   "execution_count": 6,
   "id": "a1d231f9-091e-4c72-b0f8-6af578a74e22",
   "metadata": {},
   "outputs": [],
   "source": [
    "products = glob.glob(\"knowledge-base/products/*\")\n",
    "\n",
    "for product in products:\n",
    "    name = product.split(os.sep)[-1][:-3]\n",
    "    doc = \"\"\n",
    "    with open(product, \"r\", encoding=\"utf-8\") as f:\n",
    "        doc = f.read()\n",
    "    context[name]=doc"
   ]
  },
  {
   "cell_type": "code",
   "execution_count": 23,
   "id": "aba46a57-d973-4195-8fe3-70fc60687192",
   "metadata": {},
   "outputs": [
    {
     "name": "stdout",
     "output_type": "stream",
     "text": [
      "dict_keys(['Chen', 'Spencer', 'Tran', 'Blake', 'Lancaster', 'Thompson', 'Greene', 'Thomson', 'Trenton', 'Harper', 'Bishop', 'Carter', 'Rellm', 'Markellm', 'Homellm', 'Carllm'])\n"
     ]
    }
   ],
   "source": [
    "print(context.keys())"
   ]
  },
  {
   "cell_type": "code",
   "execution_count": 8,
   "id": "129c7d1e-0094-4479-9459-f9360b95f244",
   "metadata": {},
   "outputs": [],
   "source": [
    "system_message = \"You are an expert in answering accurate questions about Insurellm, the Insurance Tech company. Give brief, accurate answers. If you don't know the answer, say so. Do not make anything up if you haven't been provided with relevant context.\""
   ]
  },
  {
   "cell_type": "code",
   "execution_count": 57,
   "id": "8e827cdd",
   "metadata": {},
   "outputs": [],
   "source": [
    "system_message = \"\"\"\n",
    "You are an expert on Insurellm, the Insurance Tech company. Your role is to provide users with brief, accurate, and contextually relevant answers to their questions about Insurellm.\n",
    "\n",
    "Guidelines:\n",
    "1. Provide concise and precise responses based on the information you have.\n",
    "2. If you don't know the answer or haven't been provided with relevant context, clearly state that you don't know.\n",
    "3. Do not fabricate information or make any assumptions without relevant context.\n",
    "4. Aim to ensure users receive the most helpful and reliable information possible.\n",
    "\n",
    "Your expertise will help users better understand Insurellm, its services, technologies, and industry position. Accuracy and clarity are your top priorities.\n",
    "\"\"\"\n"
   ]
  },
  {
   "cell_type": "code",
   "execution_count": 64,
   "id": "295f4bae",
   "metadata": {},
   "outputs": [],
   "source": [
    "def get_relevant_context(message):\n",
    "    relevant_context = []\n",
    "    for context_title, context_details in context.items():\n",
    "        if context_title.lower() in message.lower():\n",
    "            relevant_context.append(f\"### {context_title}\\n\\n{context_details}\")\n",
    "    markdown_output = \"\\n\\n\".join(relevant_context)\n",
    "    return f\"# Relevant Context\\n\\n**Query:** {message}\\n\\n{markdown_output}\""
   ]
  },
  {
   "cell_type": "code",
   "execution_count": 65,
   "id": "8cd538ff",
   "metadata": {},
   "outputs": [
    {
     "name": "stdout",
     "output_type": "stream",
     "text": [
      "# Relevant Context\n",
      "\n",
      "**Query:** Who is Samuel Trenton?\n",
      "\n",
      "### Trenton\n",
      "\n",
      "# HR Record\n",
      "\n",
      "# Samuel Trenton\n",
      "\n",
      "## Summary\n",
      "- **Date of Birth:** April 12, 1989  \n",
      "- **Job Title:** Senior Data Scientist  \n",
      "- **Location:** Austin, Texas  \n",
      "\n",
      "## Insurellm Career Progression\n",
      "- **January 2020 - Present:** Senior Data Scientist  \n",
      "  *Promoted for demonstrating exceptional analytical skills and leadership potential. Led several projects that improved customer segmentation strategies, resulting in a 15% increase in customer retention.*\n",
      "\n",
      "- **June 2018 - December 2019:** Data Scientist  \n",
      "  *Joined the Insurellm team and worked on developing predictive modeling techniques to assess risk for both B2B and B2C customers. Received recognition for the success of the \"Risk Assessment Model\" project.*\n",
      "\n",
      "- **August 2016 - May 2018:** Junior Data Analyst  \n",
      "  *Started at Insurellm as a Junior Data Analyst, focusing on data cleaning and preliminary analysis of customer data. Received training in various data visualization techniques, which aided in the transition to a Data Scientist role.*\n",
      "\n",
      "## Annual Performance History\n",
      "- **2023:** Rating: 4.5/5  \n",
      "  *Samuel exceeded expectations, successfully leading a cross-departmental project on AI-driven underwriting processes.*\n",
      "\n",
      "- **2022:** Rating: 3.0/5  \n",
      "  *Some challenges in meeting deadlines and collaboration with the engineering team. Received constructive feedback and participated in a team communication workshop.*\n",
      "\n",
      "- **2021:** Rating: 4.0/5  \n",
      "  *There was notable improvement in performance. Worked to enhance model accuracy, leading to improved risk assessment outcomes for B2C customers.*\n",
      "\n",
      "- **2020:** Rating: 3.5/5  \n",
      "  *Exhibited a solid performance during the initial year as a Senior Data Scientist but had struggles adapting to new leadership expectations.*\n",
      "\n",
      "## Compensation History\n",
      "- **2023:** Base Salary: $115,000 + Bonus: $15,000  \n",
      "  *Annual bonus based on successful project completions and performance metrics.*\n",
      "\n",
      "- **2022:** Base Salary: $110,000 + Bonus: $10,000  \n",
      "  *Slight decrease in bonus due to performance challenges during the year.*\n",
      "\n",
      "- **2021:** Base Salary: $105,000 + Bonus: $12,000  \n",
      "  *Merit-based increase, reflecting consistent contributions to the data science team.*\n",
      "\n",
      "- **2020:** Base Salary: $100,000 + Bonus: $8,000  \n",
      "  *Initial compensation as Senior Data Scientist, with a focus on building rapport with cross-functional teams.*\n",
      "\n",
      "## Other HR Notes\n",
      "- **Professional Development:** Completed several workshops on machine learning and AI applications in insurance. Currently pursuing an online certification in deep learning.\n",
      "\n",
      "- **Engagement in Company Culture:** Regularly participates in team-building events and contributes to the internal newsletter, sharing insights on data science trends.\n",
      "\n",
      "- **Areas for Improvement:** Collaboration with engineering teams has been noted as an area needing focus. Samuel has expressed a desire to work closely with tech teams to align data initiatives better.\n",
      "\n",
      "- **Personal Interests:** Has a keen interest in hiking and photography, often sharing his photography from weekend hikes with colleagues, fostering positive team relationships.\n"
     ]
    }
   ],
   "source": [
    "print(get_relevant_context(\"Who is Samuel Trenton?\"))"
   ]
  },
  {
   "cell_type": "code",
   "execution_count": 66,
   "id": "d94c768d-c47a-4c34-85e9-7b786da96507",
   "metadata": {},
   "outputs": [
    {
     "name": "stdout",
     "output_type": "stream",
     "text": [
      "# Relevant Context\n",
      "\n",
      "**Query:** what is carllm?\n",
      "\n",
      "### Carllm\n",
      "\n",
      "# Product Summary\n",
      "\n",
      "# Carllm\n",
      "\n",
      "## Summary\n",
      "\n",
      "Carllm is an innovative auto insurance product developed by Insurellm, designed to streamline the way insurance companies offer coverage to their customers. Powered by cutting-edge artificial intelligence, Carllm utilizes advanced algorithms to deliver personalized auto insurance solutions, ensuring optimal coverage while minimizing costs. With a robust infrastructure that supports both B2B and B2C customers, Carllm redefines the auto insurance landscape and empowers insurance providers to enhance customer satisfaction and retention.\n",
      "\n",
      "## Features\n",
      "\n",
      "- **AI-Powered Risk Assessment**: Carllm leverages artificial intelligence to analyze driver behavior, vehicle conditions, and historical claims data. This enables insurers to make informed decisions and set competitive premiums that reflect true risk profiles.\n",
      "\n",
      "- **Instant Quoting**: With Carllm, insurance companies can offer near-instant quotes to customers, enhancing the customer experience. The AI engine processes data in real-time, drastically reducing the time it takes to generate quotes.\n",
      "\n",
      "- **Customizable Coverage Plans**: Carllm allows insurers to create flexible and tailored insurance packages based on individual customer needs. This customization improves customer engagement and retention.\n",
      "\n",
      "- **Fraud Detection**: The product incorporates advanced analytics to identify potentially fraudulent claims, significantly reducing the risk of losses for insurance providers.\n",
      "\n",
      "- **Customer Insights Dashboard**: Carllm provides insurers with a powerful dashboard that offers deep insights into customer behavior, claims patterns, and market trends, enabling informed decision-making and strategic planning.\n",
      "\n",
      "- **Mobile Integration**: Carllm is designed to work seamlessly with mobile applications, providing both insurers and end-users access to policy management and claims reporting on the go.\n",
      "\n",
      "- **Automated Customer Support**: Leveraging AI chatbots, Carllm offers 24/7 customer support, helping to resolve inquiries quickly and efficiently, thus improving customer satisfaction.\n",
      "\n",
      "## Pricing\n",
      "\n",
      "Carllm is offered under a subscription-based pricing model tailored to meet the needs of insurance companies of all sizes. Our pricing tiers are designed to provide maximum flexibility and value:\n",
      "\n",
      "- **Basic Tier**: $1,000/month\n",
      "  - Ideal for small insurance firms.\n",
      "  - Access to core features and standard reporting.\n",
      "\n",
      "- **Professional Tier**: $2,500/month\n",
      "  - For medium-sized companies.\n",
      "  - All Basic Tier features plus advanced analytics and fraud detection.\n",
      "\n",
      "- **Enterprise Tier**: $5,000/month\n",
      "  - Customized solutions for large insurance firms.\n",
      "  - Comprehensive support, full feature access, and integration with existing systems.\n",
      "\n",
      "Contact our sales team for a personalized quote and discover how Carllm can transform your auto insurance offerings!\n",
      "\n",
      "## 2025-2026 Roadmap\n",
      "\n",
      "In our commitment to continuous improvement and innovation, Insurellm has outlined the following roadmap for Carllm:\n",
      "\n",
      "### Q1 2025: Launch Feature Enhancements\n",
      "- **Expanded data integrations** for better risk assessment.\n",
      "- **Enhanced fraud detection algorithms** to reduce losses.\n",
      "\n",
      "### Q2 2025: Customer Experience Improvements\n",
      "- Launch of a new **mobile app** for end-users.\n",
      "- Introduction of **telematics-based pricing** to provide even more tailored coverage options.\n",
      "\n",
      "### Q3 2025: Global Expansion\n",
      "- Begin pilot programs for international insurance markets.\n",
      "- Collaborate with local insurers to offer compliant, localized versions of Carllm.\n",
      "\n",
      "### Q4 2025: AI and Machine Learning Upgrades\n",
      "- Implement next-gen machine learning models for predictive analysis.\n",
      "- Roll out customer insights dashboard updates based on user feedback.\n",
      "\n",
      "### 2026: Scaling and Partnerships\n",
      "- Increase partnerships with automakers for integrated insurance solutions.\n",
      "- Enhance the **AI customer support system** to include multi-language support.\n",
      "\n",
      "Carllm is not just an auto insurance product; it is a transformative tool for the insurance industry. Join us on this exciting journey as we redefine the future of auto insurance with technology and customer-centric solutions.\n"
     ]
    }
   ],
   "source": [
    "print(get_relevant_context(\"what is carllm?\"))"
   ]
  },
  {
   "cell_type": "code",
   "execution_count": 30,
   "id": "5a7cef7f-f214-4bac-8217-3f9ab9ba1bf0",
   "metadata": {},
   "outputs": [],
   "source": [
    "def add_context(message):\n",
    "    relevant_context = get_relevant_context(message)\n",
    "    if relevant_context:\n",
    "        message += \"\\n\\nThe following additional context might be relevant in answering this question:\\n\\n\"\n",
    "        for relevant in relevant_context:\n",
    "            message += relevant + \"\\n\\n\"\n",
    "    return message"
   ]
  },
  {
   "cell_type": "code",
   "execution_count": 67,
   "id": "2b36399c-440b-4049-9d39-68d208283c71",
   "metadata": {},
   "outputs": [
    {
     "data": {
      "text/plain": [
       "\"Who is Alex Lancaster?\\n\\nThe following additional context might be relevant in answering this question:\\n\\n#\\n\\n \\n\\nR\\n\\ne\\n\\nl\\n\\ne\\n\\nv\\n\\na\\n\\nn\\n\\nt\\n\\n \\n\\nC\\n\\no\\n\\nn\\n\\nt\\n\\ne\\n\\nx\\n\\nt\\n\\n\\n\\n\\n\\n\\n\\n*\\n\\n*\\n\\nQ\\n\\nu\\n\\ne\\n\\nr\\n\\ny\\n\\n:\\n\\n*\\n\\n*\\n\\n \\n\\nW\\n\\nh\\n\\no\\n\\n \\n\\ni\\n\\ns\\n\\n \\n\\nA\\n\\nl\\n\\ne\\n\\nx\\n\\n \\n\\nL\\n\\na\\n\\nn\\n\\nc\\n\\na\\n\\ns\\n\\nt\\n\\ne\\n\\nr\\n\\n?\\n\\n\\n\\n\\n\\n\\n\\n#\\n\\n#\\n\\n#\\n\\n \\n\\nL\\n\\na\\n\\nn\\n\\nc\\n\\na\\n\\ns\\n\\nt\\n\\ne\\n\\nr\\n\\n\\n\\n\\n\\n\\n\\n#\\n\\n \\n\\nA\\n\\nv\\n\\ne\\n\\nr\\n\\ny\\n\\n \\n\\nL\\n\\na\\n\\nn\\n\\nc\\n\\na\\n\\ns\\n\\nt\\n\\ne\\n\\nr\\n\\n\\n\\n\\n\\n\\n\\n#\\n\\n#\\n\\n \\n\\nS\\n\\nu\\n\\nm\\n\\nm\\n\\na\\n\\nr\\n\\ny\\n\\n\\n\\n\\n-\\n\\n \\n\\n*\\n\\n*\\n\\nD\\n\\na\\n\\nt\\n\\ne\\n\\n \\n\\no\\n\\nf\\n\\n \\n\\nB\\n\\ni\\n\\nr\\n\\nt\\n\\nh\\n\\n*\\n\\n*\\n\\n:\\n\\n \\n\\nM\\n\\na\\n\\nr\\n\\nc\\n\\nh\\n\\n \\n\\n1\\n\\n5\\n\\n,\\n\\n \\n\\n1\\n\\n9\\n\\n8\\n\\n5\\n\\n \\n\\n \\n\\n\\n\\n\\n-\\n\\n \\n\\n*\\n\\n*\\n\\nJ\\n\\no\\n\\nb\\n\\n \\n\\nT\\n\\ni\\n\\nt\\n\\nl\\n\\ne\\n\\n*\\n\\n*\\n\\n:\\n\\n \\n\\nC\\n\\no\\n\\n-\\n\\nF\\n\\no\\n\\nu\\n\\nn\\n\\nd\\n\\ne\\n\\nr\\n\\n \\n\\n&\\n\\n \\n\\nC\\n\\nh\\n\\ni\\n\\ne\\n\\nf\\n\\n \\n\\nE\\n\\nx\\n\\ne\\n\\nc\\n\\nu\\n\\nt\\n\\ni\\n\\nv\\n\\ne\\n\\n \\n\\nO\\n\\nf\\n\\nf\\n\\ni\\n\\nc\\n\\ne\\n\\nr\\n\\n \\n\\n(\\n\\nC\\n\\nE\\n\\nO\\n\\n)\\n\\n \\n\\n \\n\\n\\n\\n\\n-\\n\\n \\n\\n*\\n\\n*\\n\\nL\\n\\no\\n\\nc\\n\\na\\n\\nt\\n\\ni\\n\\no\\n\\nn\\n\\n*\\n\\n*\\n\\n:\\n\\n \\n\\nS\\n\\na\\n\\nn\\n\\n \\n\\nF\\n\\nr\\n\\na\\n\\nn\\n\\nc\\n\\ni\\n\\ns\\n\\nc\\n\\no\\n\\n,\\n\\n \\n\\nC\\n\\na\\n\\nl\\n\\ni\\n\\nf\\n\\no\\n\\nr\\n\\nn\\n\\ni\\n\\na\\n\\n \\n\\n \\n\\n\\n\\n\\n\\n\\n\\n#\\n\\n#\\n\\n \\n\\nI\\n\\nn\\n\\ns\\n\\nu\\n\\nr\\n\\ne\\n\\nl\\n\\nl\\n\\nm\\n\\n \\n\\nC\\n\\na\\n\\nr\\n\\ne\\n\\ne\\n\\nr\\n\\n \\n\\nP\\n\\nr\\n\\no\\n\\ng\\n\\nr\\n\\ne\\n\\ns\\n\\ns\\n\\ni\\n\\no\\n\\nn\\n\\n\\n\\n\\n-\\n\\n \\n\\n*\\n\\n*\\n\\n2\\n\\n0\\n\\n1\\n\\n5\\n\\n \\n\\n-\\n\\n \\n\\nP\\n\\nr\\n\\ne\\n\\ns\\n\\ne\\n\\nn\\n\\nt\\n\\n*\\n\\n*\\n\\n:\\n\\n \\n\\nC\\n\\no\\n\\n-\\n\\nF\\n\\no\\n\\nu\\n\\nn\\n\\nd\\n\\ne\\n\\nr\\n\\n \\n\\n&\\n\\n \\n\\nC\\n\\nE\\n\\nO\\n\\n \\n\\n \\n\\n\\n\\n\\n \\n\\n \\n\\nA\\n\\nv\\n\\ne\\n\\nr\\n\\ny\\n\\n \\n\\nL\\n\\na\\n\\nn\\n\\nc\\n\\na\\n\\ns\\n\\nt\\n\\ne\\n\\nr\\n\\n \\n\\nc\\n\\no\\n\\n-\\n\\nf\\n\\no\\n\\nu\\n\\nn\\n\\nd\\n\\ne\\n\\nd\\n\\n \\n\\nI\\n\\nn\\n\\ns\\n\\nu\\n\\nr\\n\\ne\\n\\nl\\n\\nl\\n\\nm\\n\\n \\n\\ni\\n\\nn\\n\\n \\n\\n2\\n\\n0\\n\\n1\\n\\n5\\n\\n \\n\\na\\n\\nn\\n\\nd\\n\\n \\n\\nh\\n\\na\\n\\ns\\n\\n \\n\\ns\\n\\ni\\n\\nn\\n\\nc\\n\\ne\\n\\n \\n\\ng\\n\\nu\\n\\ni\\n\\nd\\n\\ne\\n\\nd\\n\\n \\n\\nt\\n\\nh\\n\\ne\\n\\n \\n\\nc\\n\\no\\n\\nm\\n\\np\\n\\na\\n\\nn\\n\\ny\\n\\n \\n\\nt\\n\\no\\n\\n \\n\\ni\\n\\nt\\n\\ns\\n\\n \\n\\nc\\n\\nu\\n\\nr\\n\\nr\\n\\ne\\n\\nn\\n\\nt\\n\\n \\n\\np\\n\\no\\n\\ns\\n\\ni\\n\\nt\\n\\ni\\n\\no\\n\\nn\\n\\n \\n\\na\\n\\ns\\n\\n \\n\\na\\n\\n \\n\\nl\\n\\ne\\n\\na\\n\\nd\\n\\ni\\n\\nn\\n\\ng\\n\\n \\n\\nI\\n\\nn\\n\\ns\\n\\nu\\n\\nr\\n\\na\\n\\nn\\n\\nc\\n\\ne\\n\\n \\n\\nT\\n\\ne\\n\\nc\\n\\nh\\n\\n \\n\\np\\n\\nr\\n\\no\\n\\nv\\n\\ni\\n\\nd\\n\\ne\\n\\nr\\n\\n.\\n\\n \\n\\nA\\n\\nv\\n\\ne\\n\\nr\\n\\ny\\n\\n \\n\\ni\\n\\ns\\n\\n \\n\\nk\\n\\nn\\n\\no\\n\\nw\\n\\nn\\n\\n \\n\\nf\\n\\no\\n\\nr\\n\\n \\n\\nh\\n\\ne\\n\\nr\\n\\n \\n\\ni\\n\\nn\\n\\nn\\n\\no\\n\\nv\\n\\na\\n\\nt\\n\\ni\\n\\nv\\n\\ne\\n\\n \\n\\nl\\n\\ne\\n\\na\\n\\nd\\n\\ne\\n\\nr\\n\\ns\\n\\nh\\n\\ni\\n\\np\\n\\n \\n\\ns\\n\\nt\\n\\nr\\n\\na\\n\\nt\\n\\ne\\n\\ng\\n\\ni\\n\\ne\\n\\ns\\n\\n \\n\\na\\n\\nn\\n\\nd\\n\\n \\n\\nr\\n\\ni\\n\\ns\\n\\nk\\n\\n \\n\\nm\\n\\na\\n\\nn\\n\\na\\n\\ng\\n\\ne\\n\\nm\\n\\ne\\n\\nn\\n\\nt\\n\\n \\n\\ne\\n\\nx\\n\\np\\n\\ne\\n\\nr\\n\\nt\\n\\ni\\n\\ns\\n\\ne\\n\\n \\n\\nt\\n\\nh\\n\\na\\n\\nt\\n\\n \\n\\nh\\n\\na\\n\\nv\\n\\ne\\n\\n \\n\\nc\\n\\na\\n\\nt\\n\\na\\n\\np\\n\\nu\\n\\nl\\n\\nt\\n\\ne\\n\\nd\\n\\n \\n\\nt\\n\\nh\\n\\ne\\n\\n \\n\\nc\\n\\no\\n\\nm\\n\\np\\n\\na\\n\\nn\\n\\ny\\n\\n \\n\\ni\\n\\nn\\n\\nt\\n\\no\\n\\n \\n\\nt\\n\\nh\\n\\ne\\n\\n \\n\\nm\\n\\na\\n\\ni\\n\\nn\\n\\ns\\n\\nt\\n\\nr\\n\\ne\\n\\na\\n\\nm\\n\\n \\n\\ni\\n\\nn\\n\\ns\\n\\nu\\n\\nr\\n\\na\\n\\nn\\n\\nc\\n\\ne\\n\\n \\n\\nm\\n\\na\\n\\nr\\n\\nk\\n\\ne\\n\\nt\\n\\n.\\n\\n \\n\\n \\n\\n\\n\\n\\n\\n\\n\\n-\\n\\n \\n\\n*\\n\\n*\\n\\n2\\n\\n0\\n\\n1\\n\\n3\\n\\n \\n\\n-\\n\\n \\n\\n2\\n\\n0\\n\\n1\\n\\n5\\n\\n*\\n\\n*\\n\\n:\\n\\n \\n\\nS\\n\\ne\\n\\nn\\n\\ni\\n\\no\\n\\nr\\n\\n \\n\\nP\\n\\nr\\n\\no\\n\\nd\\n\\nu\\n\\nc\\n\\nt\\n\\n \\n\\nM\\n\\na\\n\\nn\\n\\na\\n\\ng\\n\\ne\\n\\nr\\n\\n \\n\\na\\n\\nt\\n\\n \\n\\nI\\n\\nn\\n\\nn\\n\\no\\n\\nv\\n\\na\\n\\nt\\n\\ne\\n\\n \\n\\nI\\n\\nn\\n\\ns\\n\\nu\\n\\nr\\n\\na\\n\\nn\\n\\nc\\n\\ne\\n\\n \\n\\nS\\n\\no\\n\\nl\\n\\nu\\n\\nt\\n\\ni\\n\\no\\n\\nn\\n\\ns\\n\\n \\n\\n \\n\\n\\n\\n\\n \\n\\n \\n\\nB\\n\\ne\\n\\nf\\n\\no\\n\\nr\\n\\ne\\n\\n \\n\\nl\\n\\na\\n\\nu\\n\\nn\\n\\nc\\n\\nh\\n\\ni\\n\\nn\\n\\ng\\n\\n \\n\\nI\\n\\nn\\n\\ns\\n\\nu\\n\\nr\\n\\ne\\n\\nl\\n\\nl\\n\\nm\\n\\n,\\n\\n \\n\\nA\\n\\nv\\n\\ne\\n\\nr\\n\\ny\\n\\n \\n\\nw\\n\\na\\n\\ns\\n\\n \\n\\na\\n\\n \\n\\nl\\n\\ne\\n\\na\\n\\nd\\n\\ni\\n\\nn\\n\\ng\\n\\n \\n\\nS\\n\\ne\\n\\nn\\n\\ni\\n\\no\\n\\nr\\n\\n \\n\\nP\\n\\nr\\n\\no\\n\\nd\\n\\nu\\n\\nc\\n\\nt\\n\\n \\n\\nM\\n\\na\\n\\nn\\n\\na\\n\\ng\\n\\ne\\n\\nr\\n\\n \\n\\na\\n\\nt\\n\\n \\n\\nI\\n\\nn\\n\\nn\\n\\no\\n\\nv\\n\\na\\n\\nt\\n\\ne\\n\\n \\n\\nI\\n\\nn\\n\\ns\\n\\nu\\n\\nr\\n\\na\\n\\nn\\n\\nc\\n\\ne\\n\\n \\n\\nS\\n\\no\\n\\nl\\n\\nu\\n\\nt\\n\\ni\\n\\no\\n\\nn\\n\\ns\\n\\n,\\n\\n \\n\\nw\\n\\nh\\n\\ne\\n\\nr\\n\\ne\\n\\n \\n\\ns\\n\\nh\\n\\ne\\n\\n \\n\\nd\\n\\ne\\n\\nv\\n\\ne\\n\\nl\\n\\no\\n\\np\\n\\ne\\n\\nd\\n\\n \\n\\ng\\n\\nr\\n\\no\\n\\nu\\n\\nn\\n\\nd\\n\\nb\\n\\nr\\n\\ne\\n\\na\\n\\nk\\n\\ni\\n\\nn\\n\\ng\\n\\n \\n\\ni\\n\\nn\\n\\ns\\n\\nu\\n\\nr\\n\\na\\n\\nn\\n\\nc\\n\\ne\\n\\n \\n\\np\\n\\nr\\n\\no\\n\\nd\\n\\nu\\n\\nc\\n\\nt\\n\\ns\\n\\n \\n\\na\\n\\ni\\n\\nm\\n\\ne\\n\\nd\\n\\n \\n\\na\\n\\nt\\n\\n \\n\\nt\\n\\nh\\n\\ne\\n\\n \\n\\nt\\n\\ne\\n\\nc\\n\\nh\\n\\n \\n\\ns\\n\\ne\\n\\nc\\n\\nt\\n\\no\\n\\nr\\n\\n.\\n\\n \\n\\n \\n\\n\\n\\n\\n\\n\\n\\n-\\n\\n \\n\\n*\\n\\n*\\n\\n2\\n\\n0\\n\\n1\\n\\n0\\n\\n \\n\\n-\\n\\n \\n\\n2\\n\\n0\\n\\n1\\n\\n3\\n\\n*\\n\\n*\\n\\n:\\n\\n \\n\\nB\\n\\nu\\n\\ns\\n\\ni\\n\\nn\\n\\ne\\n\\ns\\n\\ns\\n\\n \\n\\nA\\n\\nn\\n\\na\\n\\nl\\n\\ny\\n\\ns\\n\\nt\\n\\n \\n\\na\\n\\nt\\n\\n \\n\\nE\\n\\nd\\n\\ng\\n\\ne\\n\\n \\n\\nA\\n\\nn\\n\\na\\n\\nl\\n\\ny\\n\\nt\\n\\ni\\n\\nc\\n\\ns\\n\\n \\n\\n \\n\\n\\n\\n\\n \\n\\n \\n\\nP\\n\\nr\\n\\ni\\n\\no\\n\\nr\\n\\n \\n\\nt\\n\\no\\n\\n \\n\\nj\\n\\no\\n\\ni\\n\\nn\\n\\ni\\n\\nn\\n\\ng\\n\\n \\n\\nI\\n\\nn\\n\\nn\\n\\no\\n\\nv\\n\\na\\n\\nt\\n\\ne\\n\\n,\\n\\n \\n\\nA\\n\\nv\\n\\ne\\n\\nr\\n\\ny\\n\\n \\n\\nw\\n\\no\\n\\nr\\n\\nk\\n\\ne\\n\\nd\\n\\n \\n\\na\\n\\ns\\n\\n \\n\\na\\n\\n \\n\\nB\\n\\nu\\n\\ns\\n\\ni\\n\\nn\\n\\ne\\n\\ns\\n\\ns\\n\\n \\n\\nA\\n\\nn\\n\\na\\n\\nl\\n\\ny\\n\\ns\\n\\nt\\n\\n,\\n\\n \\n\\nf\\n\\no\\n\\nc\\n\\nu\\n\\ns\\n\\ni\\n\\nn\\n\\ng\\n\\n \\n\\no\\n\\nn\\n\\n \\n\\nm\\n\\na\\n\\nr\\n\\nk\\n\\ne\\n\\nt\\n\\n \\n\\nt\\n\\nr\\n\\ne\\n\\nn\\n\\nd\\n\\ns\\n\\n \\n\\na\\n\\nn\\n\\nd\\n\\n \\n\\nc\\n\\no\\n\\nn\\n\\ns\\n\\nu\\n\\nm\\n\\ne\\n\\nr\\n\\n \\n\\np\\n\\nr\\n\\ne\\n\\nf\\n\\ne\\n\\nr\\n\\ne\\n\\nn\\n\\nc\\n\\ne\\n\\ns\\n\\n \\n\\ni\\n\\nn\\n\\n \\n\\nt\\n\\nh\\n\\ne\\n\\n \\n\\ni\\n\\nn\\n\\ns\\n\\nu\\n\\nr\\n\\na\\n\\nn\\n\\nc\\n\\ne\\n\\n \\n\\ns\\n\\np\\n\\na\\n\\nc\\n\\ne\\n\\n.\\n\\n \\n\\nT\\n\\nh\\n\\ni\\n\\ns\\n\\n \\n\\np\\n\\no\\n\\ns\\n\\ni\\n\\nt\\n\\ni\\n\\no\\n\\nn\\n\\n \\n\\nl\\n\\na\\n\\ni\\n\\nd\\n\\n \\n\\nt\\n\\nh\\n\\ne\\n\\n \\n\\ng\\n\\nr\\n\\no\\n\\nu\\n\\nn\\n\\nd\\n\\nw\\n\\no\\n\\nr\\n\\nk\\n\\n \\n\\nf\\n\\no\\n\\nr\\n\\n \\n\\nA\\n\\nv\\n\\ne\\n\\nr\\n\\ny\\n\\n’\\n\\ns\\n\\n \\n\\nf\\n\\nu\\n\\nt\\n\\nu\\n\\nr\\n\\ne\\n\\n \\n\\ne\\n\\nn\\n\\nt\\n\\nr\\n\\ne\\n\\np\\n\\nr\\n\\ne\\n\\nn\\n\\ne\\n\\nu\\n\\nr\\n\\ni\\n\\na\\n\\nl\\n\\n \\n\\ne\\n\\nn\\n\\nd\\n\\ne\\n\\na\\n\\nv\\n\\no\\n\\nr\\n\\ns\\n\\n.\\n\\n\\n\\n\\n\\n\\n\\n#\\n\\n#\\n\\n \\n\\nA\\n\\nn\\n\\nn\\n\\nu\\n\\na\\n\\nl\\n\\n \\n\\nP\\n\\ne\\n\\nr\\n\\nf\\n\\no\\n\\nr\\n\\nm\\n\\na\\n\\nn\\n\\nc\\n\\ne\\n\\n \\n\\nH\\n\\ni\\n\\ns\\n\\nt\\n\\no\\n\\nr\\n\\ny\\n\\n\\n\\n\\n-\\n\\n \\n\\n*\\n\\n*\\n\\n2\\n\\n0\\n\\n1\\n\\n5\\n\\n*\\n\\n*\\n\\n:\\n\\n \\n\\n*\\n\\n*\\n\\nE\\n\\nx\\n\\nc\\n\\ne\\n\\ne\\n\\nd\\n\\ns\\n\\n \\n\\nE\\n\\nx\\n\\np\\n\\ne\\n\\nc\\n\\nt\\n\\na\\n\\nt\\n\\ni\\n\\no\\n\\nn\\n\\ns\\n\\n*\\n\\n*\\n\\n \\n\\n \\n\\n\\n\\n\\n \\n\\n \\n\\nA\\n\\nv\\n\\ne\\n\\nr\\n\\ny\\n\\n’\\n\\ns\\n\\n \\n\\nl\\n\\ne\\n\\na\\n\\nd\\n\\ne\\n\\nr\\n\\ns\\n\\nh\\n\\ni\\n\\np\\n\\n \\n\\nd\\n\\nu\\n\\nr\\n\\ni\\n\\nn\\n\\ng\\n\\n \\n\\nI\\n\\nn\\n\\ns\\n\\nu\\n\\nr\\n\\ne\\n\\nl\\n\\nl\\n\\nm\\n\\n'\\n\\ns\\n\\n \\n\\nf\\n\\no\\n\\nu\\n\\nn\\n\\nd\\n\\na\\n\\nt\\n\\ni\\n\\no\\n\\nn\\n\\na\\n\\nl\\n\\n \\n\\ny\\n\\ne\\n\\na\\n\\nr\\n\\n \\n\\nl\\n\\ne\\n\\nd\\n\\n \\n\\nt\\n\\no\\n\\n \\n\\ns\\n\\nu\\n\\nc\\n\\nc\\n\\ne\\n\\ns\\n\\ns\\n\\nf\\n\\nu\\n\\nl\\n\\n \\n\\np\\n\\nr\\n\\no\\n\\nd\\n\\nu\\n\\nc\\n\\nt\\n\\n \\n\\nl\\n\\na\\n\\nu\\n\\nn\\n\\nc\\n\\nh\\n\\ne\\n\\ns\\n\\n \\n\\na\\n\\nn\\n\\nd\\n\\n \\n\\ns\\n\\ne\\n\\nc\\n\\nu\\n\\nr\\n\\ni\\n\\nn\\n\\ng\\n\\n \\n\\ni\\n\\nn\\n\\ni\\n\\nt\\n\\ni\\n\\na\\n\\nl\\n\\n \\n\\nf\\n\\nu\\n\\nn\\n\\nd\\n\\ni\\n\\nn\\n\\ng\\n\\n.\\n\\n \\n\\n \\n\\n\\n\\n\\n\\n\\n\\n-\\n\\n \\n\\n*\\n\\n*\\n\\n2\\n\\n0\\n\\n1\\n\\n6\\n\\n*\\n\\n*\\n\\n:\\n\\n \\n\\n*\\n\\n*\\n\\nM\\n\\ne\\n\\ne\\n\\nt\\n\\ns\\n\\n \\n\\nE\\n\\nx\\n\\np\\n\\ne\\n\\nc\\n\\nt\\n\\na\\n\\nt\\n\\ni\\n\\no\\n\\nn\\n\\ns\\n\\n*\\n\\n*\\n\\n \\n\\n \\n\\n\\n\\n\\n \\n\\n \\n\\nG\\n\\nr\\n\\no\\n\\nw\\n\\nt\\n\\nh\\n\\n \\n\\nc\\n\\no\\n\\nn\\n\\nt\\n\\ni\\n\\nn\\n\\nu\\n\\ne\\n\\nd\\n\\n,\\n\\n \\n\\nt\\n\\nh\\n\\no\\n\\nu\\n\\ng\\n\\nh\\n\\n \\n\\nc\\n\\nh\\n\\na\\n\\nl\\n\\nl\\n\\ne\\n\\nn\\n\\ng\\n\\ne\\n\\ns\\n\\n \\n\\na\\n\\nr\\n\\no\\n\\ns\\n\\ne\\n\\n \\n\\ni\\n\\nn\\n\\n \\n\\no\\n\\np\\n\\ne\\n\\nr\\n\\na\\n\\nt\\n\\ni\\n\\no\\n\\nn\\n\\na\\n\\nl\\n\\n \\n\\ne\\n\\nf\\n\\nf\\n\\ni\\n\\nc\\n\\ni\\n\\ne\\n\\nn\\n\\nc\\n\\ny\\n\\n \\n\\nt\\n\\nh\\n\\na\\n\\nt\\n\\n \\n\\nr\\n\\ne\\n\\nq\\n\\nu\\n\\ni\\n\\nr\\n\\ne\\n\\nd\\n\\n \\n\\nA\\n\\nv\\n\\ne\\n\\nr\\n\\ny\\n\\n'\\n\\ns\\n\\n \\n\\na\\n\\nt\\n\\nt\\n\\ne\\n\\nn\\n\\nt\\n\\ni\\n\\no\\n\\nn\\n\\n.\\n\\n \\n\\n \\n\\n\\n\\n\\n\\n\\n\\n-\\n\\n \\n\\n*\\n\\n*\\n\\n2\\n\\n0\\n\\n1\\n\\n7\\n\\n*\\n\\n*\\n\\n:\\n\\n \\n\\n*\\n\\n*\\n\\nD\\n\\ne\\n\\nv\\n\\ne\\n\\nl\\n\\no\\n\\np\\n\\ni\\n\\nn\\n\\ng\\n\\n*\\n\\n*\\n\\n \\n\\n \\n\\n\\n\\n\\n \\n\\n \\n\\nM\\n\\na\\n\\nr\\n\\nk\\n\\ne\\n\\nt\\n\\n \\n\\nc\\n\\no\\n\\nm\\n\\np\\n\\ne\\n\\nt\\n\\ni\\n\\nt\\n\\ni\\n\\no\\n\\nn\\n\\n \\n\\ni\\n\\nn\\n\\nt\\n\\ne\\n\\nn\\n\\ns\\n\\ni\\n\\nf\\n\\ni\\n\\ne\\n\\nd\\n\\n,\\n\\n \\n\\na\\n\\nn\\n\\nd\\n\\n \\n\\nm\\n\\no\\n\\nn\\n\\nt\\n\\nh\\n\\nl\\n\\ny\\n\\n \\n\\ns\\n\\na\\n\\nl\\n\\ne\\n\\ns\\n\\n \\n\\nm\\n\\ne\\n\\nt\\n\\nr\\n\\ni\\n\\nc\\n\\ns\\n\\n \\n\\nw\\n\\ne\\n\\nr\\n\\ne\\n\\n \\n\\nb\\n\\ne\\n\\nl\\n\\no\\n\\nw\\n\\n \\n\\nt\\n\\na\\n\\nr\\n\\ng\\n\\ne\\n\\nt\\n\\ns\\n\\n.\\n\\n \\n\\nA\\n\\nv\\n\\ne\\n\\nr\\n\\ny\\n\\n \\n\\ni\\n\\nm\\n\\np\\n\\nl\\n\\ne\\n\\nm\\n\\ne\\n\\nn\\n\\nt\\n\\ne\\n\\nd\\n\\n \\n\\nn\\n\\ne\\n\\nw\\n\\n \\n\\ns\\n\\nt\\n\\nr\\n\\na\\n\\nt\\n\\ne\\n\\ng\\n\\ni\\n\\ne\\n\\ns\\n\\n \\n\\nw\\n\\nh\\n\\ni\\n\\nc\\n\\nh\\n\\n \\n\\nr\\n\\ne\\n\\nq\\n\\nu\\n\\ni\\n\\nr\\n\\ne\\n\\nd\\n\\n \\n\\na\\n\\n \\n\\ns\\n\\nt\\n\\ne\\n\\ne\\n\\np\\n\\n \\n\\nl\\n\\ne\\n\\na\\n\\nr\\n\\nn\\n\\ni\\n\\nn\\n\\ng\\n\\n \\n\\nc\\n\\nu\\n\\nr\\n\\nv\\n\\ne\\n\\n.\\n\\n \\n\\n \\n\\n\\n\\n\\n\\n\\n\\n-\\n\\n \\n\\n*\\n\\n*\\n\\n2\\n\\n0\\n\\n1\\n\\n8\\n\\n*\\n\\n*\\n\\n:\\n\\n \\n\\n*\\n\\n*\\n\\nE\\n\\nx\\n\\nc\\n\\ne\\n\\ne\\n\\nd\\n\\ns\\n\\n \\n\\nE\\n\\nx\\n\\np\\n\\ne\\n\\nc\\n\\nt\\n\\na\\n\\nt\\n\\ni\\n\\no\\n\\nn\\n\\ns\\n\\n*\\n\\n*\\n\\n \\n\\n \\n\\n\\n\\n\\n \\n\\n \\n\\nU\\n\\nn\\n\\nd\\n\\ne\\n\\nr\\n\\n \\n\\nA\\n\\nv\\n\\ne\\n\\nr\\n\\ny\\n\\n’\\n\\ns\\n\\n \\n\\np\\n\\ni\\n\\nv\\n\\no\\n\\nt\\n\\ne\\n\\nd\\n\\n \\n\\nv\\n\\ni\\n\\ns\\n\\ni\\n\\no\\n\\nn\\n\\n,\\n\\n \\n\\nI\\n\\nn\\n\\ns\\n\\nu\\n\\nr\\n\\ne\\n\\nl\\n\\nl\\n\\nm\\n\\n \\n\\nl\\n\\na\\n\\nu\\n\\nn\\n\\nc\\n\\nh\\n\\ne\\n\\nd\\n\\n \\n\\nt\\n\\nw\\n\\no\\n\\n \\n\\nn\\n\\ne\\n\\nw\\n\\n \\n\\ns\\n\\nu\\n\\nc\\n\\nc\\n\\ne\\n\\ns\\n\\ns\\n\\nf\\n\\nu\\n\\nl\\n\\n \\n\\np\\n\\nr\\n\\no\\n\\nd\\n\\nu\\n\\nc\\n\\nt\\n\\ns\\n\\n \\n\\nt\\n\\nh\\n\\na\\n\\nt\\n\\n \\n\\ns\\n\\ni\\n\\ng\\n\\nn\\n\\ni\\n\\nf\\n\\ni\\n\\nc\\n\\na\\n\\nn\\n\\nt\\n\\nl\\n\\ny\\n\\n \\n\\ni\\n\\nn\\n\\nc\\n\\nr\\n\\ne\\n\\na\\n\\ns\\n\\ne\\n\\nd\\n\\n \\n\\nm\\n\\na\\n\\nr\\n\\nk\\n\\ne\\n\\nt\\n\\n \\n\\ns\\n\\nh\\n\\na\\n\\nr\\n\\ne\\n\\n.\\n\\n \\n\\n \\n\\n\\n\\n\\n\\n\\n\\n-\\n\\n \\n\\n*\\n\\n*\\n\\n2\\n\\n0\\n\\n1\\n\\n9\\n\\n*\\n\\n*\\n\\n:\\n\\n \\n\\n*\\n\\n*\\n\\nM\\n\\ne\\n\\ne\\n\\nt\\n\\ns\\n\\n \\n\\nE\\n\\nx\\n\\np\\n\\ne\\n\\nc\\n\\nt\\n\\na\\n\\nt\\n\\ni\\n\\no\\n\\nn\\n\\ns\\n\\n*\\n\\n*\\n\\n \\n\\n \\n\\n\\n\\n\\n \\n\\n \\n\\nS\\n\\nt\\n\\ne\\n\\na\\n\\nd\\n\\ny\\n\\n \\n\\ng\\n\\nr\\n\\no\\n\\nw\\n\\nt\\n\\nh\\n\\n,\\n\\n \\n\\nh\\n\\no\\n\\nw\\n\\ne\\n\\nv\\n\\ne\\n\\nr\\n\\n,\\n\\n \\n\\ns\\n\\no\\n\\nm\\n\\ne\\n\\n \\n\\nt\\n\\ne\\n\\na\\n\\nm\\n\\n \\n\\nt\\n\\ne\\n\\nn\\n\\ns\\n\\ni\\n\\no\\n\\nn\\n\\ns\\n\\n \\n\\nl\\n\\ne\\n\\nd\\n\\n \\n\\nt\\n\\no\\n\\n \\n\\na\\n\\n \\n\\nm\\n\\ni\\n\\nn\\n\\no\\n\\nr\\n\\n \\n\\nd\\n\\nr\\n\\no\\n\\np\\n\\n \\n\\ni\\n\\nn\\n\\n \\n\\ne\\n\\nm\\n\\np\\n\\nl\\n\\no\\n\\ny\\n\\ne\\n\\ne\\n\\n \\n\\nm\\n\\no\\n\\nr\\n\\na\\n\\nl\\n\\ne\\n\\n.\\n\\n \\n\\nA\\n\\nv\\n\\ne\\n\\nr\\n\\ny\\n\\n \\n\\nr\\n\\ne\\n\\nc\\n\\no\\n\\ng\\n\\nn\\n\\ni\\n\\nz\\n\\ne\\n\\nd\\n\\n \\n\\nt\\n\\nh\\n\\ne\\n\\n \\n\\nn\\n\\ne\\n\\ne\\n\\nd\\n\\n \\n\\nt\\n\\no\\n\\n \\n\\ne\\n\\nn\\n\\nh\\n\\na\\n\\nn\\n\\nc\\n\\ne\\n\\n \\n\\nc\\n\\no\\n\\nm\\n\\np\\n\\na\\n\\nn\\n\\ny\\n\\n \\n\\nc\\n\\nu\\n\\nl\\n\\nt\\n\\nu\\n\\nr\\n\\ne\\n\\n.\\n\\n \\n\\n \\n\\n\\n\\n\\n\\n\\n\\n-\\n\\n \\n\\n*\\n\\n*\\n\\n2\\n\\n0\\n\\n2\\n\\n0\\n\\n*\\n\\n*\\n\\n:\\n\\n \\n\\n*\\n\\n*\\n\\nB\\n\\ne\\n\\nl\\n\\no\\n\\nw\\n\\n \\n\\nE\\n\\nx\\n\\np\\n\\ne\\n\\nc\\n\\nt\\n\\na\\n\\nt\\n\\ni\\n\\no\\n\\nn\\n\\ns\\n\\n*\\n\\n*\\n\\n \\n\\n \\n\\n\\n\\n\\n \\n\\n \\n\\nT\\n\\nh\\n\\ne\\n\\n \\n\\nC\\n\\nO\\n\\nV\\n\\nI\\n\\nD\\n\\n-\\n\\n1\\n\\n9\\n\\n \\n\\np\\n\\na\\n\\nn\\n\\nd\\n\\ne\\n\\nm\\n\\ni\\n\\nc\\n\\n \\n\\np\\n\\no\\n\\ns\\n\\ne\\n\\nd\\n\\n \\n\\nu\\n\\nn\\n\\nf\\n\\no\\n\\nr\\n\\ne\\n\\ns\\n\\ne\\n\\ne\\n\\nn\\n\\n \\n\\no\\n\\np\\n\\ne\\n\\nr\\n\\na\\n\\nt\\n\\ni\\n\\no\\n\\nn\\n\\na\\n\\nl\\n\\n \\n\\nd\\n\\ni\\n\\nf\\n\\nf\\n\\ni\\n\\nc\\n\\nu\\n\\nl\\n\\nt\\n\\ni\\n\\ne\\n\\ns\\n\\n.\\n\\n \\n\\nA\\n\\nv\\n\\ne\\n\\nr\\n\\ny\\n\\n \\n\\nf\\n\\na\\n\\nc\\n\\ne\\n\\nd\\n\\n \\n\\nc\\n\\nr\\n\\ni\\n\\nt\\n\\ni\\n\\nc\\n\\ni\\n\\ns\\n\\nm\\n\\n \\n\\nf\\n\\no\\n\\nr\\n\\n \\n\\nd\\n\\ne\\n\\nl\\n\\na\\n\\ny\\n\\ne\\n\\nd\\n\\n \\n\\ns\\n\\nt\\n\\nr\\n\\na\\n\\nt\\n\\ne\\n\\ng\\n\\ny\\n\\n \\n\\ns\\n\\nh\\n\\ni\\n\\nf\\n\\nt\\n\\ns\\n\\n,\\n\\n \\n\\na\\n\\nl\\n\\nt\\n\\nh\\n\\no\\n\\nu\\n\\ng\\n\\nh\\n\\n \\n\\ne\\n\\nf\\n\\nf\\n\\no\\n\\nr\\n\\nt\\n\\ns\\n\\n \\n\\nw\\n\\ne\\n\\nr\\n\\ne\\n\\n \\n\\ne\\n\\nv\\n\\ne\\n\\nn\\n\\nt\\n\\nu\\n\\na\\n\\nl\\n\\nl\\n\\ny\\n\\n \\n\\nm\\n\\na\\n\\nd\\n\\ne\\n\\n \\n\\nt\\n\\no\\n\\n \\n\\ns\\n\\nt\\n\\na\\n\\nb\\n\\ni\\n\\nl\\n\\ni\\n\\nz\\n\\ne\\n\\n \\n\\nt\\n\\nh\\n\\ne\\n\\n \\n\\nc\\n\\no\\n\\nm\\n\\np\\n\\na\\n\\nn\\n\\ny\\n\\n.\\n\\n \\n\\n \\n\\n\\n\\n\\n\\n\\n\\n-\\n\\n \\n\\n*\\n\\n*\\n\\n2\\n\\n0\\n\\n2\\n\\n1\\n\\n*\\n\\n*\\n\\n:\\n\\n \\n\\n*\\n\\n*\\n\\nE\\n\\nx\\n\\nc\\n\\ne\\n\\np\\n\\nt\\n\\ni\\n\\no\\n\\nn\\n\\na\\n\\nl\\n\\n*\\n\\n*\\n\\n \\n\\n \\n\\n\\n\\n\\n \\n\\n \\n\\nA\\n\\nv\\n\\ne\\n\\nr\\n\\ny\\n\\n'\\n\\ns\\n\\n \\n\\nd\\n\\ne\\n\\nc\\n\\ni\\n\\ns\\n\\ni\\n\\nv\\n\\ne\\n\\n \\n\\nt\\n\\nr\\n\\na\\n\\nn\\n\\ns\\n\\ni\\n\\nt\\n\\ni\\n\\no\\n\\nn\\n\\n \\n\\nt\\n\\no\\n\\n \\n\\nr\\n\\ne\\n\\nm\\n\\no\\n\\nt\\n\\ne\\n\\n \\n\\nw\\n\\no\\n\\nr\\n\\nk\\n\\n \\n\\na\\n\\nn\\n\\nd\\n\\n \\n\\nr\\n\\na\\n\\np\\n\\ni\\n\\nd\\n\\n \\n\\na\\n\\nd\\n\\no\\n\\np\\n\\nt\\n\\ni\\n\\no\\n\\nn\\n\\n \\n\\no\\n\\nf\\n\\n \\n\\nd\\n\\ni\\n\\ng\\n\\ni\\n\\nt\\n\\na\\n\\nl\\n\\n \\n\\nt\\n\\no\\n\\no\\n\\nl\\n\\ns\\n\\n \\n\\nl\\n\\ne\\n\\nd\\n\\n \\n\\nt\\n\\no\\n\\n \\n\\nr\\n\\ne\\n\\nc\\n\\no\\n\\nr\\n\\nd\\n\\n-\\n\\nh\\n\\ni\\n\\ng\\n\\nh\\n\\n \\n\\nc\\n\\nu\\n\\ns\\n\\nt\\n\\no\\n\\nm\\n\\ne\\n\\nr\\n\\n \\n\\ns\\n\\na\\n\\nt\\n\\ni\\n\\ns\\n\\nf\\n\\na\\n\\nc\\n\\nt\\n\\ni\\n\\no\\n\\nn\\n\\n \\n\\nl\\n\\ne\\n\\nv\\n\\ne\\n\\nl\\n\\ns\\n\\n \\n\\na\\n\\nn\\n\\nd\\n\\n \\n\\ni\\n\\nn\\n\\nc\\n\\nr\\n\\ne\\n\\na\\n\\ns\\n\\ne\\n\\nd\\n\\n \\n\\ns\\n\\na\\n\\nl\\n\\ne\\n\\ns\\n\\n.\\n\\n \\n\\n \\n\\n\\n\\n\\n\\n\\n\\n-\\n\\n \\n\\n*\\n\\n*\\n\\n2\\n\\n0\\n\\n2\\n\\n2\\n\\n*\\n\\n*\\n\\n:\\n\\n \\n\\n*\\n\\n*\\n\\nS\\n\\na\\n\\nt\\n\\ni\\n\\ns\\n\\nf\\n\\na\\n\\nc\\n\\nt\\n\\no\\n\\nr\\n\\ny\\n\\n*\\n\\n*\\n\\n \\n\\n \\n\\n\\n\\n\\n \\n\\n \\n\\nA\\n\\nv\\n\\ne\\n\\nr\\n\\ny\\n\\n \\n\\nf\\n\\no\\n\\nc\\n\\nu\\n\\ns\\n\\ne\\n\\nd\\n\\n \\n\\no\\n\\nn\\n\\n \\n\\nr\\n\\ne\\n\\nb\\n\\nu\\n\\ni\\n\\nl\\n\\nd\\n\\ni\\n\\nn\\n\\ng\\n\\n \\n\\nt\\n\\ne\\n\\na\\n\\nm\\n\\n \\n\\nd\\n\\ny\\n\\nn\\n\\na\\n\\nm\\n\\ni\\n\\nc\\n\\ns\\n\\n \\n\\na\\n\\nn\\n\\nd\\n\\n \\n\\na\\n\\nd\\n\\nd\\n\\nr\\n\\ne\\n\\ns\\n\\ns\\n\\ni\\n\\nn\\n\\ng\\n\\n \\n\\ne\\n\\nm\\n\\np\\n\\nl\\n\\no\\n\\ny\\n\\ne\\n\\ne\\n\\n \\n\\nc\\n\\no\\n\\nn\\n\\nc\\n\\ne\\n\\nr\\n\\nn\\n\\ns\\n\\n,\\n\\n \\n\\nl\\n\\ne\\n\\na\\n\\nd\\n\\ni\\n\\nn\\n\\ng\\n\\n \\n\\nt\\n\\no\\n\\n \\n\\no\\n\\nv\\n\\ne\\n\\nr\\n\\na\\n\\nl\\n\\nl\\n\\n \\n\\ni\\n\\nm\\n\\np\\n\\nr\\n\\no\\n\\nv\\n\\ne\\n\\nm\\n\\ne\\n\\nn\\n\\nt\\n\\n \\n\\nd\\n\\ne\\n\\ns\\n\\np\\n\\ni\\n\\nt\\n\\ne\\n\\n \\n\\na\\n\\n \\n\\ns\\n\\na\\n\\nt\\n\\nu\\n\\nr\\n\\na\\n\\nt\\n\\ne\\n\\nd\\n\\n \\n\\nm\\n\\na\\n\\nr\\n\\nk\\n\\ne\\n\\nt\\n\\n.\\n\\n \\n\\n \\n\\n\\n\\n\\n\\n\\n\\n-\\n\\n \\n\\n*\\n\\n*\\n\\n2\\n\\n0\\n\\n2\\n\\n3\\n\\n*\\n\\n*\\n\\n:\\n\\n \\n\\n*\\n\\n*\\n\\nE\\n\\nx\\n\\nc\\n\\ne\\n\\ne\\n\\nd\\n\\ns\\n\\n \\n\\nE\\n\\nx\\n\\np\\n\\ne\\n\\nc\\n\\nt\\n\\na\\n\\nt\\n\\ni\\n\\no\\n\\nn\\n\\ns\\n\\n*\\n\\n*\\n\\n \\n\\n \\n\\n\\n\\n\\n \\n\\n \\n\\nM\\n\\na\\n\\nr\\n\\nk\\n\\ne\\n\\nt\\n\\n \\n\\nl\\n\\ne\\n\\na\\n\\nd\\n\\ne\\n\\nr\\n\\ns\\n\\nh\\n\\ni\\n\\np\\n\\n \\n\\nw\\n\\na\\n\\ns\\n\\n \\n\\nr\\n\\ne\\n\\ng\\n\\na\\n\\ni\\n\\nn\\n\\ne\\n\\nd\\n\\n \\n\\nw\\n\\ni\\n\\nt\\n\\nh\\n\\n \\n\\ni\\n\\nn\\n\\nn\\n\\no\\n\\nv\\n\\na\\n\\nt\\n\\ni\\n\\nv\\n\\ne\\n\\n \\n\\na\\n\\np\\n\\np\\n\\nr\\n\\no\\n\\na\\n\\nc\\n\\nh\\n\\ne\\n\\ns\\n\\n \\n\\nt\\n\\no\\n\\n \\n\\np\\n\\ne\\n\\nr\\n\\ns\\n\\no\\n\\nn\\n\\na\\n\\nl\\n\\ni\\n\\nz\\n\\ne\\n\\nd\\n\\n \\n\\ni\\n\\nn\\n\\ns\\n\\nu\\n\\nr\\n\\na\\n\\nn\\n\\nc\\n\\ne\\n\\n \\n\\ns\\n\\no\\n\\nl\\n\\nu\\n\\nt\\n\\ni\\n\\no\\n\\nn\\n\\ns\\n\\n.\\n\\n \\n\\nA\\n\\nv\\n\\ne\\n\\nr\\n\\ny\\n\\n \\n\\ni\\n\\ns\\n\\n \\n\\nn\\n\\no\\n\\nw\\n\\n \\n\\nr\\n\\ne\\n\\nc\\n\\no\\n\\ng\\n\\nn\\n\\ni\\n\\nz\\n\\ne\\n\\nd\\n\\n \\n\\ni\\n\\nn\\n\\n \\n\\ni\\n\\nn\\n\\nd\\n\\nu\\n\\ns\\n\\nt\\n\\nr\\n\\ny\\n\\n \\n\\np\\n\\nu\\n\\nb\\n\\nl\\n\\ni\\n\\nc\\n\\na\\n\\nt\\n\\ni\\n\\no\\n\\nn\\n\\ns\\n\\n \\n\\na\\n\\ns\\n\\n \\n\\na\\n\\n \\n\\nl\\n\\ne\\n\\na\\n\\nd\\n\\ni\\n\\nn\\n\\ng\\n\\n \\n\\nv\\n\\no\\n\\ni\\n\\nc\\n\\ne\\n\\n \\n\\ni\\n\\nn\\n\\n \\n\\nI\\n\\nn\\n\\ns\\n\\nu\\n\\nr\\n\\na\\n\\nn\\n\\nc\\n\\ne\\n\\n \\n\\nT\\n\\ne\\n\\nc\\n\\nh\\n\\n \\n\\ni\\n\\nn\\n\\nn\\n\\no\\n\\nv\\n\\na\\n\\nt\\n\\ni\\n\\no\\n\\nn\\n\\n.\\n\\n\\n\\n\\n\\n\\n\\n#\\n\\n#\\n\\n \\n\\nC\\n\\no\\n\\nm\\n\\np\\n\\ne\\n\\nn\\n\\ns\\n\\na\\n\\nt\\n\\ni\\n\\no\\n\\nn\\n\\n \\n\\nH\\n\\ni\\n\\ns\\n\\nt\\n\\no\\n\\nr\\n\\ny\\n\\n\\n\\n\\n-\\n\\n \\n\\n*\\n\\n*\\n\\n2\\n\\n0\\n\\n1\\n\\n5\\n\\n*\\n\\n*\\n\\n:\\n\\n \\n\\n$\\n\\n1\\n\\n5\\n\\n0\\n\\n,\\n\\n0\\n\\n0\\n\\n0\\n\\n \\n\\nb\\n\\na\\n\\ns\\n\\ne\\n\\n \\n\\ns\\n\\na\\n\\nl\\n\\na\\n\\nr\\n\\ny\\n\\n \\n\\n+\\n\\n \\n\\nS\\n\\ni\\n\\ng\\n\\nn\\n\\ni\\n\\nf\\n\\ni\\n\\nc\\n\\na\\n\\nn\\n\\nt\\n\\n \\n\\ne\\n\\nq\\n\\nu\\n\\ni\\n\\nt\\n\\ny\\n\\n \\n\\ns\\n\\nt\\n\\na\\n\\nk\\n\\ne\\n\\n \\n\\n \\n\\n\\n\\n\\n-\\n\\n \\n\\n*\\n\\n*\\n\\n2\\n\\n0\\n\\n1\\n\\n6\\n\\n*\\n\\n*\\n\\n:\\n\\n \\n\\n$\\n\\n1\\n\\n6\\n\\n0\\n\\n,\\n\\n0\\n\\n0\\n\\n0\\n\\n \\n\\nb\\n\\na\\n\\ns\\n\\ne\\n\\n \\n\\ns\\n\\na\\n\\nl\\n\\na\\n\\nr\\n\\ny\\n\\n \\n\\n+\\n\\n \\n\\nE\\n\\nq\\n\\nu\\n\\ni\\n\\nt\\n\\ny\\n\\n \\n\\ni\\n\\nn\\n\\nc\\n\\nr\\n\\ne\\n\\na\\n\\ns\\n\\ne\\n\\n \\n\\n \\n\\n\\n\\n\\n-\\n\\n \\n\\n*\\n\\n*\\n\\n2\\n\\n0\\n\\n1\\n\\n7\\n\\n*\\n\\n*\\n\\n:\\n\\n \\n\\n$\\n\\n1\\n\\n5\\n\\n0\\n\\n,\\n\\n0\\n\\n0\\n\\n0\\n\\n \\n\\nb\\n\\na\\n\\ns\\n\\ne\\n\\n \\n\\ns\\n\\na\\n\\nl\\n\\na\\n\\nr\\n\\ny\\n\\n \\n\\n+\\n\\n \\n\\nD\\n\\ne\\n\\nc\\n\\nr\\n\\ne\\n\\na\\n\\ns\\n\\ne\\n\\n \\n\\ni\\n\\nn\\n\\n \\n\\nb\\n\\no\\n\\nn\\n\\nu\\n\\ns\\n\\n \\n\\nd\\n\\nu\\n\\ne\\n\\n \\n\\nt\\n\\no\\n\\n \\n\\np\\n\\ne\\n\\nr\\n\\nf\\n\\no\\n\\nr\\n\\nm\\n\\na\\n\\nn\\n\\nc\\n\\ne\\n\\n \\n\\n \\n\\n\\n\\n\\n-\\n\\n \\n\\n*\\n\\n*\\n\\n2\\n\\n0\\n\\n1\\n\\n8\\n\\n*\\n\\n*\\n\\n:\\n\\n \\n\\n$\\n\\n1\\n\\n8\\n\\n0\\n\\n,\\n\\n0\\n\\n0\\n\\n0\\n\\n \\n\\nb\\n\\na\\n\\ns\\n\\ne\\n\\n \\n\\ns\\n\\na\\n\\nl\\n\\na\\n\\nr\\n\\ny\\n\\n \\n\\n+\\n\\n \\n\\np\\n\\ne\\n\\nr\\n\\nf\\n\\no\\n\\nr\\n\\nm\\n\\na\\n\\nn\\n\\nc\\n\\ne\\n\\n \\n\\nb\\n\\no\\n\\nn\\n\\nu\\n\\ns\\n\\n \\n\\no\\n\\nf\\n\\n \\n\\n$\\n\\n3\\n\\n0\\n\\n,\\n\\n0\\n\\n0\\n\\n0\\n\\n \\n\\n \\n\\n\\n\\n\\n-\\n\\n \\n\\n*\\n\\n*\\n\\n2\\n\\n0\\n\\n1\\n\\n9\\n\\n*\\n\\n*\\n\\n:\\n\\n \\n\\n$\\n\\n1\\n\\n8\\n\\n5\\n\\n,\\n\\n0\\n\\n0\\n\\n0\\n\\n \\n\\nb\\n\\na\\n\\ns\\n\\ne\\n\\n \\n\\ns\\n\\na\\n\\nl\\n\\na\\n\\nr\\n\\ny\\n\\n \\n\\n+\\n\\n \\n\\nm\\n\\na\\n\\nr\\n\\nk\\n\\ne\\n\\nt\\n\\n \\n\\na\\n\\nd\\n\\nj\\n\\nu\\n\\ns\\n\\nt\\n\\nm\\n\\ne\\n\\nn\\n\\nt\\n\\n \\n\\n+\\n\\n \\n\\n$\\n\\n5\\n\\n,\\n\\n0\\n\\n0\\n\\n0\\n\\n \\n\\nb\\n\\no\\n\\nn\\n\\nu\\n\\ns\\n\\n \\n\\n \\n\\n\\n\\n\\n-\\n\\n \\n\\n*\\n\\n*\\n\\n2\\n\\n0\\n\\n2\\n\\n0\\n\\n*\\n\\n*\\n\\n:\\n\\n \\n\\n$\\n\\n1\\n\\n7\\n\\n0\\n\\n,\\n\\n0\\n\\n0\\n\\n0\\n\\n \\n\\nb\\n\\na\\n\\ns\\n\\ne\\n\\n \\n\\ns\\n\\na\\n\\nl\\n\\na\\n\\nr\\n\\ny\\n\\n \\n\\n(\\n\\nt\\n\\ne\\n\\nm\\n\\np\\n\\no\\n\\nr\\n\\na\\n\\nr\\n\\ny\\n\\n \\n\\nr\\n\\ne\\n\\nd\\n\\nu\\n\\nc\\n\\nt\\n\\ni\\n\\no\\n\\nn\\n\\n \\n\\nd\\n\\nu\\n\\ne\\n\\n \\n\\nt\\n\\no\\n\\n \\n\\nC\\n\\nO\\n\\nV\\n\\nI\\n\\nD\\n\\n-\\n\\n1\\n\\n9\\n\\n)\\n\\n \\n\\n \\n\\n\\n\\n\\n-\\n\\n \\n\\n*\\n\\n*\\n\\n2\\n\\n0\\n\\n2\\n\\n1\\n\\n*\\n\\n*\\n\\n:\\n\\n \\n\\n$\\n\\n2\\n\\n0\\n\\n0\\n\\n,\\n\\n0\\n\\n0\\n\\n0\\n\\n \\n\\nb\\n\\na\\n\\ns\\n\\ne\\n\\n \\n\\ns\\n\\na\\n\\nl\\n\\na\\n\\nr\\n\\ny\\n\\n \\n\\n+\\n\\n \\n\\np\\n\\ne\\n\\nr\\n\\nf\\n\\no\\n\\nr\\n\\nm\\n\\na\\n\\nn\\n\\nc\\n\\ne\\n\\n \\n\\nb\\n\\no\\n\\nn\\n\\nu\\n\\ns\\n\\n \\n\\no\\n\\nf\\n\\n \\n\\n$\\n\\n5\\n\\n0\\n\\n,\\n\\n0\\n\\n0\\n\\n0\\n\\n \\n\\n \\n\\n\\n\\n\\n-\\n\\n \\n\\n*\\n\\n*\\n\\n2\\n\\n0\\n\\n2\\n\\n2\\n\\n*\\n\\n*\\n\\n:\\n\\n \\n\\n$\\n\\n2\\n\\n1\\n\\n0\\n\\n,\\n\\n0\\n\\n0\\n\\n0\\n\\n \\n\\nb\\n\\na\\n\\ns\\n\\ne\\n\\n \\n\\ns\\n\\na\\n\\nl\\n\\na\\n\\nr\\n\\ny\\n\\n \\n\\n+\\n\\n \\n\\nr\\n\\ne\\n\\nt\\n\\ne\\n\\nn\\n\\nt\\n\\ni\\n\\no\\n\\nn\\n\\n \\n\\nb\\n\\no\\n\\nn\\n\\nu\\n\\ns\\n\\n \\n\\n \\n\\n\\n\\n\\n-\\n\\n \\n\\n*\\n\\n*\\n\\n2\\n\\n0\\n\\n2\\n\\n3\\n\\n*\\n\\n*\\n\\n:\\n\\n \\n\\n$\\n\\n2\\n\\n2\\n\\n5\\n\\n,\\n\\n0\\n\\n0\\n\\n0\\n\\n \\n\\nb\\n\\na\\n\\ns\\n\\ne\\n\\n \\n\\ns\\n\\na\\n\\nl\\n\\na\\n\\nr\\n\\ny\\n\\n \\n\\n+\\n\\n \\n\\n$\\n\\n7\\n\\n5\\n\\n,\\n\\n0\\n\\n0\\n\\n0\\n\\n \\n\\np\\n\\ne\\n\\nr\\n\\nf\\n\\no\\n\\nr\\n\\nm\\n\\na\\n\\nn\\n\\nc\\n\\ne\\n\\n \\n\\nb\\n\\no\\n\\nn\\n\\nu\\n\\ns\\n\\n \\n\\n \\n\\n\\n\\n\\n\\n\\n\\n#\\n\\n#\\n\\n \\n\\nO\\n\\nt\\n\\nh\\n\\ne\\n\\nr\\n\\n \\n\\nH\\n\\nR\\n\\n \\n\\nN\\n\\no\\n\\nt\\n\\ne\\n\\ns\\n\\n\\n\\n\\n-\\n\\n \\n\\n*\\n\\n*\\n\\nP\\n\\nr\\n\\no\\n\\nf\\n\\ne\\n\\ns\\n\\ns\\n\\ni\\n\\no\\n\\nn\\n\\na\\n\\nl\\n\\n \\n\\nD\\n\\ne\\n\\nv\\n\\ne\\n\\nl\\n\\no\\n\\np\\n\\nm\\n\\ne\\n\\nn\\n\\nt\\n\\n*\\n\\n*\\n\\n:\\n\\n \\n\\nA\\n\\nv\\n\\ne\\n\\nr\\n\\ny\\n\\n \\n\\nh\\n\\na\\n\\ns\\n\\n \\n\\na\\n\\nc\\n\\nt\\n\\ni\\n\\nv\\n\\ne\\n\\nl\\n\\ny\\n\\n \\n\\np\\n\\na\\n\\nr\\n\\nt\\n\\ni\\n\\nc\\n\\ni\\n\\np\\n\\na\\n\\nt\\n\\ne\\n\\nd\\n\\n \\n\\ni\\n\\nn\\n\\n \\n\\nl\\n\\ne\\n\\na\\n\\nd\\n\\ne\\n\\nr\\n\\ns\\n\\nh\\n\\ni\\n\\np\\n\\n \\n\\nt\\n\\nr\\n\\na\\n\\ni\\n\\nn\\n\\ni\\n\\nn\\n\\ng\\n\\n \\n\\np\\n\\nr\\n\\no\\n\\ng\\n\\nr\\n\\na\\n\\nm\\n\\ns\\n\\n \\n\\na\\n\\nn\\n\\nd\\n\\n \\n\\ni\\n\\nn\\n\\nd\\n\\nu\\n\\ns\\n\\nt\\n\\nr\\n\\ny\\n\\n \\n\\nc\\n\\no\\n\\nn\\n\\nf\\n\\ne\\n\\nr\\n\\ne\\n\\nn\\n\\nc\\n\\ne\\n\\ns\\n\\n,\\n\\n \\n\\nr\\n\\ne\\n\\np\\n\\nr\\n\\ne\\n\\ns\\n\\ne\\n\\nn\\n\\nt\\n\\ni\\n\\nn\\n\\ng\\n\\n \\n\\nI\\n\\nn\\n\\ns\\n\\nu\\n\\nr\\n\\ne\\n\\nl\\n\\nl\\n\\nm\\n\\n \\n\\na\\n\\nn\\n\\nd\\n\\n \\n\\nf\\n\\no\\n\\ns\\n\\nt\\n\\ne\\n\\nr\\n\\ni\\n\\nn\\n\\ng\\n\\n \\n\\np\\n\\na\\n\\nr\\n\\nt\\n\\nn\\n\\ne\\n\\nr\\n\\ns\\n\\nh\\n\\ni\\n\\np\\n\\ns\\n\\n.\\n\\n \\n\\n \\n\\n\\n\\n\\n-\\n\\n \\n\\n*\\n\\n*\\n\\nD\\n\\ni\\n\\nv\\n\\ne\\n\\nr\\n\\ns\\n\\ni\\n\\nt\\n\\ny\\n\\n \\n\\n&\\n\\n \\n\\nI\\n\\nn\\n\\nc\\n\\nl\\n\\nu\\n\\ns\\n\\ni\\n\\no\\n\\nn\\n\\n \\n\\nI\\n\\nn\\n\\ni\\n\\nt\\n\\ni\\n\\na\\n\\nt\\n\\ni\\n\\nv\\n\\ne\\n\\ns\\n\\n*\\n\\n*\\n\\n:\\n\\n \\n\\nA\\n\\nv\\n\\ne\\n\\nr\\n\\ny\\n\\n \\n\\nh\\n\\na\\n\\ns\\n\\n \\n\\nc\\n\\nh\\n\\na\\n\\nm\\n\\np\\n\\ni\\n\\no\\n\\nn\\n\\ne\\n\\nd\\n\\n \\n\\na\\n\\n \\n\\nc\\n\\no\\n\\nm\\n\\nm\\n\\ni\\n\\nt\\n\\nm\\n\\ne\\n\\nn\\n\\nt\\n\\n \\n\\nt\\n\\no\\n\\n \\n\\nd\\n\\ni\\n\\nv\\n\\ne\\n\\nr\\n\\ns\\n\\ni\\n\\nt\\n\\ny\\n\\n \\n\\ni\\n\\nn\\n\\n \\n\\nh\\n\\ni\\n\\nr\\n\\ni\\n\\nn\\n\\ng\\n\\n \\n\\np\\n\\nr\\n\\na\\n\\nc\\n\\nt\\n\\ni\\n\\nc\\n\\ne\\n\\ns\\n\\n,\\n\\n \\n\\ns\\n\\ne\\n\\ne\\n\\ni\\n\\nn\\n\\ng\\n\\n \\n\\nv\\n\\ni\\n\\ns\\n\\ni\\n\\nb\\n\\nl\\n\\ne\\n\\n \\n\\ni\\n\\nm\\n\\np\\n\\nr\\n\\no\\n\\nv\\n\\ne\\n\\nm\\n\\ne\\n\\nn\\n\\nt\\n\\ns\\n\\n \\n\\ni\\n\\nn\\n\\n \\n\\nt\\n\\ne\\n\\na\\n\\nm\\n\\n \\n\\nr\\n\\ne\\n\\np\\n\\nr\\n\\ne\\n\\ns\\n\\ne\\n\\nn\\n\\nt\\n\\na\\n\\nt\\n\\ni\\n\\no\\n\\nn\\n\\n \\n\\ns\\n\\ni\\n\\nn\\n\\nc\\n\\ne\\n\\n \\n\\n2\\n\\n0\\n\\n2\\n\\n1\\n\\n.\\n\\n \\n\\n \\n\\n\\n\\n\\n-\\n\\n \\n\\n*\\n\\n*\\n\\nW\\n\\no\\n\\nr\\n\\nk\\n\\n-\\n\\nL\\n\\ni\\n\\nf\\n\\ne\\n\\n \\n\\nB\\n\\na\\n\\nl\\n\\na\\n\\nn\\n\\nc\\n\\ne\\n\\n*\\n\\n*\\n\\n:\\n\\n \\n\\nF\\n\\ne\\n\\ne\\n\\nd\\n\\nb\\n\\na\\n\\nc\\n\\nk\\n\\n \\n\\nr\\n\\ne\\n\\nv\\n\\ne\\n\\na\\n\\nl\\n\\ne\\n\\nd\\n\\n \\n\\nc\\n\\no\\n\\nn\\n\\nc\\n\\ne\\n\\nr\\n\\nn\\n\\ns\\n\\n \\n\\nr\\n\\ne\\n\\ng\\n\\na\\n\\nr\\n\\nd\\n\\ni\\n\\nn\\n\\ng\\n\\n \\n\\nw\\n\\no\\n\\nr\\n\\nk\\n\\n-\\n\\nl\\n\\ni\\n\\nf\\n\\ne\\n\\n \\n\\nb\\n\\na\\n\\nl\\n\\na\\n\\nn\\n\\nc\\n\\ne\\n\\n,\\n\\n \\n\\nw\\n\\nh\\n\\ni\\n\\nc\\n\\nh\\n\\n \\n\\nA\\n\\nv\\n\\ne\\n\\nr\\n\\ny\\n\\n \\n\\nh\\n\\na\\n\\ns\\n\\n \\n\\na\\n\\np\\n\\np\\n\\nr\\n\\no\\n\\na\\n\\nc\\n\\nh\\n\\ne\\n\\nd\\n\\n \\n\\nb\\n\\ny\\n\\n \\n\\ni\\n\\nm\\n\\np\\n\\nl\\n\\ne\\n\\nm\\n\\ne\\n\\nn\\n\\nt\\n\\ni\\n\\nn\\n\\ng\\n\\n \\n\\nf\\n\\nl\\n\\ne\\n\\nx\\n\\ni\\n\\nb\\n\\nl\\n\\ne\\n\\n \\n\\nw\\n\\no\\n\\nr\\n\\nk\\n\\ni\\n\\nn\\n\\ng\\n\\n \\n\\nc\\n\\no\\n\\nn\\n\\nd\\n\\ni\\n\\nt\\n\\ni\\n\\no\\n\\nn\\n\\ns\\n\\n \\n\\na\\n\\nn\\n\\nd\\n\\n \\n\\ne\\n\\nn\\n\\ns\\n\\nu\\n\\nr\\n\\ni\\n\\nn\\n\\ng\\n\\n \\n\\nr\\n\\ne\\n\\ng\\n\\nu\\n\\nl\\n\\na\\n\\nr\\n\\n \\n\\nc\\n\\nh\\n\\ne\\n\\nc\\n\\nk\\n\\n-\\n\\ni\\n\\nn\\n\\ns\\n\\n \\n\\nw\\n\\ni\\n\\nt\\n\\nh\\n\\n \\n\\nt\\n\\nh\\n\\ne\\n\\n \\n\\nt\\n\\ne\\n\\na\\n\\nm\\n\\n.\\n\\n\\n\\n\\n-\\n\\n \\n\\n*\\n\\n*\\n\\nC\\n\\no\\n\\nm\\n\\nm\\n\\nu\\n\\nn\\n\\ni\\n\\nt\\n\\ny\\n\\n \\n\\nE\\n\\nn\\n\\ng\\n\\na\\n\\ng\\n\\ne\\n\\nm\\n\\ne\\n\\nn\\n\\nt\\n\\n*\\n\\n*\\n\\n:\\n\\n \\n\\nA\\n\\nv\\n\\ne\\n\\nr\\n\\ny\\n\\n \\n\\nl\\n\\ne\\n\\nd\\n\\n \\n\\nc\\n\\no\\n\\nm\\n\\nm\\n\\nu\\n\\nn\\n\\ni\\n\\nt\\n\\ny\\n\\n \\n\\no\\n\\nu\\n\\nt\\n\\nr\\n\\ne\\n\\na\\n\\nc\\n\\nh\\n\\n \\n\\ne\\n\\nf\\n\\nf\\n\\no\\n\\nr\\n\\nt\\n\\ns\\n\\n,\\n\\n \\n\\nf\\n\\no\\n\\nc\\n\\nu\\n\\ns\\n\\ni\\n\\nn\\n\\ng\\n\\n \\n\\no\\n\\nn\\n\\n \\n\\nf\\n\\ni\\n\\nn\\n\\na\\n\\nn\\n\\nc\\n\\ni\\n\\na\\n\\nl\\n\\n \\n\\nl\\n\\ni\\n\\nt\\n\\ne\\n\\nr\\n\\na\\n\\nc\\n\\ny\\n\\n \\n\\np\\n\\nr\\n\\no\\n\\ng\\n\\nr\\n\\na\\n\\nm\\n\\ns\\n\\n,\\n\\n \\n\\np\\n\\na\\n\\nr\\n\\nt\\n\\ni\\n\\nc\\n\\nu\\n\\nl\\n\\na\\n\\nr\\n\\nl\\n\\ny\\n\\n \\n\\na\\n\\ni\\n\\nm\\n\\ne\\n\\nd\\n\\n \\n\\na\\n\\nt\\n\\n \\n\\nu\\n\\nn\\n\\nd\\n\\ne\\n\\nr\\n\\ns\\n\\ne\\n\\nr\\n\\nv\\n\\ne\\n\\nd\\n\\n \\n\\np\\n\\no\\n\\np\\n\\nu\\n\\nl\\n\\na\\n\\nt\\n\\ni\\n\\no\\n\\nn\\n\\ns\\n\\n,\\n\\n \\n\\ni\\n\\nm\\n\\np\\n\\nr\\n\\no\\n\\nv\\n\\ni\\n\\nn\\n\\ng\\n\\n \\n\\nI\\n\\nn\\n\\ns\\n\\nu\\n\\nr\\n\\ne\\n\\nl\\n\\nl\\n\\nm\\n\\n'\\n\\ns\\n\\n \\n\\nc\\n\\no\\n\\nr\\n\\np\\n\\no\\n\\nr\\n\\na\\n\\nt\\n\\ne\\n\\n \\n\\ns\\n\\no\\n\\nc\\n\\ni\\n\\na\\n\\nl\\n\\n \\n\\nr\\n\\ne\\n\\ns\\n\\np\\n\\no\\n\\nn\\n\\ns\\n\\ni\\n\\nb\\n\\ni\\n\\nl\\n\\ni\\n\\nt\\n\\ny\\n\\n \\n\\ni\\n\\nm\\n\\na\\n\\ng\\n\\ne\\n\\n.\\n\\n \\n\\n \\n\\n\\n\\n\\n\\n\\n\\nA\\n\\nv\\n\\ne\\n\\nr\\n\\ny\\n\\n \\n\\nL\\n\\na\\n\\nn\\n\\nc\\n\\na\\n\\ns\\n\\nt\\n\\ne\\n\\nr\\n\\n \\n\\nh\\n\\na\\n\\ns\\n\\n \\n\\nd\\n\\ne\\n\\nm\\n\\no\\n\\nn\\n\\ns\\n\\nt\\n\\nr\\n\\na\\n\\nt\\n\\ne\\n\\nd\\n\\n \\n\\nr\\n\\ne\\n\\ns\\n\\ni\\n\\nl\\n\\ni\\n\\ne\\n\\nn\\n\\nc\\n\\ne\\n\\n \\n\\na\\n\\nn\\n\\nd\\n\\n \\n\\na\\n\\nd\\n\\na\\n\\np\\n\\nt\\n\\na\\n\\nb\\n\\ni\\n\\nl\\n\\ni\\n\\nt\\n\\ny\\n\\n \\n\\nt\\n\\nh\\n\\nr\\n\\no\\n\\nu\\n\\ng\\n\\nh\\n\\no\\n\\nu\\n\\nt\\n\\n \\n\\nh\\n\\ne\\n\\nr\\n\\n \\n\\nc\\n\\na\\n\\nr\\n\\ne\\n\\ne\\n\\nr\\n\\n \\n\\na\\n\\nt\\n\\n \\n\\nI\\n\\nn\\n\\ns\\n\\nu\\n\\nr\\n\\ne\\n\\nl\\n\\nl\\n\\nm\\n\\n,\\n\\n \\n\\np\\n\\no\\n\\ns\\n\\ni\\n\\nt\\n\\ni\\n\\no\\n\\nn\\n\\ni\\n\\nn\\n\\ng\\n\\n \\n\\nt\\n\\nh\\n\\ne\\n\\n \\n\\nc\\n\\no\\n\\nm\\n\\np\\n\\na\\n\\nn\\n\\ny\\n\\n \\n\\na\\n\\ns\\n\\n \\n\\na\\n\\n \\n\\nk\\n\\ne\\n\\ny\\n\\n \\n\\np\\n\\nl\\n\\na\\n\\ny\\n\\ne\\n\\nr\\n\\n \\n\\ni\\n\\nn\\n\\n \\n\\nt\\n\\nh\\n\\ne\\n\\n \\n\\ni\\n\\nn\\n\\ns\\n\\nu\\n\\nr\\n\\na\\n\\nn\\n\\nc\\n\\ne\\n\\n \\n\\nt\\n\\ne\\n\\nc\\n\\nh\\n\\nn\\n\\no\\n\\nl\\n\\no\\n\\ng\\n\\ny\\n\\n \\n\\nl\\n\\na\\n\\nn\\n\\nd\\n\\ns\\n\\nc\\n\\na\\n\\np\\n\\ne\\n\\n.\\n\\n\""
      ]
     },
     "execution_count": 67,
     "metadata": {},
     "output_type": "execute_result"
    }
   ],
   "source": [
    "add_context(\"Who is Alex Lancaster?\")"
   ]
  },
  {
   "cell_type": "code",
   "execution_count": 54,
   "id": "968e7bf2-e862-4679-a11f-6c1efb6ec8ca",
   "metadata": {},
   "outputs": [],
   "source": [
    "def chat(message, history):\n",
    "    messages = [{\"role\": \"system\", \"content\": system_message}] + history\n",
    "    message = add_context(message)\n",
    "    messages.append({\"role\": \"user\", \"content\": message})\n",
    "\n",
    "    stream = openai.chat.completions.create(model=MODEL, messages=messages, stream=True)\n",
    "\n",
    "    response = \"\"\n",
    "    for chunk in stream:\n",
    "        response += chunk.choices[0].delta.content or ''\n",
    "        yield response"
   ]
  },
  {
   "cell_type": "markdown",
   "id": "bbbcb659-13ce-47ab-8a5e-01b930494964",
   "metadata": {},
   "source": [
    "##### The following code is to use Gradio to build chatbot interface"
   ]
  },
  {
   "cell_type": "code",
   "execution_count": 55,
   "id": "c3536590-85c7-4155-bd87-ae78a1467670",
   "metadata": {},
   "outputs": [
    {
     "name": "stdout",
     "output_type": "stream",
     "text": [
      "* Running on local URL:  http://127.0.0.1:7860\n",
      "\n",
      "To create a public link, set `share=True` in `launch()`.\n"
     ]
    },
    {
     "data": {
      "text/html": [
       "<div><iframe src=\"http://127.0.0.1:7860/\" width=\"100%\" height=\"500\" allow=\"autoplay; camera; microphone; clipboard-read; clipboard-write;\" frameborder=\"0\" allowfullscreen></iframe></div>"
      ],
      "text/plain": [
       "<IPython.core.display.HTML object>"
      ]
     },
     "metadata": {},
     "output_type": "display_data"
    }
   ],
   "source": [
    "view = gr.ChatInterface(chat, type=\"messages\").launch()"
   ]
  },
  {
   "cell_type": "code",
   "execution_count": null,
   "id": "48873d11-2fbd-4329-af27-46c781788561",
   "metadata": {},
   "outputs": [],
   "source": []
  }
 ],
 "metadata": {
  "kernelspec": {
   "display_name": "Python 3",
   "language": "python",
   "name": "python3"
  },
  "language_info": {
   "codemirror_mode": {
    "name": "ipython",
    "version": 3
   },
   "file_extension": ".py",
   "mimetype": "text/x-python",
   "name": "python",
   "nbconvert_exporter": "python",
   "pygments_lexer": "ipython3",
   "version": "3.13.0"
  }
 },
 "nbformat": 4,
 "nbformat_minor": 5
}
